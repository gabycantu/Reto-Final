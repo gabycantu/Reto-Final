{
 "cells": [
  {
   "cell_type": "code",
   "execution_count": 1,
   "metadata": {},
   "outputs": [
    {
     "data": {
      "text/html": [
       "        <script type=\"text/javascript\">\n",
       "        window.PlotlyConfig = {MathJaxConfig: 'local'};\n",
       "        if (window.MathJax && window.MathJax.Hub && window.MathJax.Hub.Config) {window.MathJax.Hub.Config({SVG: {font: \"STIX-Web\"}});}\n",
       "        if (typeof require !== 'undefined') {\n",
       "        require.undef(\"plotly\");\n",
       "        requirejs.config({\n",
       "            paths: {\n",
       "                'plotly': ['https://cdn.plot.ly/plotly-2.14.0.min']\n",
       "            }\n",
       "        });\n",
       "        require(['plotly'], function(Plotly) {\n",
       "            window._Plotly = Plotly;\n",
       "        });\n",
       "        }\n",
       "        </script>\n",
       "        "
      ]
     },
     "metadata": {},
     "output_type": "display_data"
    }
   ],
   "source": [
    "import pandas as pd\n",
    "import numpy as np\n",
    "import matplotlib.pyplot as plt\n",
    "import cufflinks as cf\n",
    "from IPython.display import display,HTML"
   ]
  },
  {
   "cell_type": "code",
   "execution_count": null,
   "metadata": {},
   "outputs": [],
   "source": [
    "#Carga desde un archivo .csv sin indice\n",
    "data= pd.read_csv('CountryTable.csv') \n",
    "data"
   ]
  },
  {
   "cell_type": "code",
   "execution_count": null,
   "metadata": {},
   "outputs": [],
   "source": [
    "#Identificar valores nulos\n",
    "valores_nulos=data.isnull().sum()\n",
    "valores_nulos"
   ]
  },
  {
   "cell_type": "code",
   "execution_count": null,
   "metadata": {},
   "outputs": [],
   "source": [
    "#Sustituir valores nulos por un valor numérico en  concreto \n",
    "data[\"independence_year\"]= data[\"independence_year\"].fillna(1900) \n",
    "data"
   ]
  },
  {
   "cell_type": "code",
   "execution_count": null,
   "metadata": {},
   "outputs": [],
   "source": [
    "#Comprobar corrección de valores nulos\n",
    "valores_nulos=data.isnull().sum()\n",
    "valores_nulos"
   ]
  },
  {
   "cell_type": "code",
   "execution_count": null,
   "metadata": {},
   "outputs": [],
   "source": [
    "#Sustituir valores nulos con la media de la columna\n",
    "data[\"life_expectancy\"]=data[\"life_expectancy\"].fillna(round(data[\"life_expectancy\"].mean(),1))\n",
    "data"
   ]
  },
  {
   "cell_type": "code",
   "execution_count": null,
   "metadata": {},
   "outputs": [],
   "source": [
    "#Comprobar corrección de valores nulos\n",
    "valores_nulos=data.isnull().sum()\n",
    "valores_nulos"
   ]
  },
  {
   "cell_type": "code",
   "execution_count": null,
   "metadata": {},
   "outputs": [],
   "source": [
    "#Sustituir valores nulos con mediana\n",
    "data[\"gnp_old\"]=data[\"gnp_old\"].fillna(round(data[\"gnp_old\"].median(),1))\n",
    "data"
   ]
  },
  {
   "cell_type": "code",
   "execution_count": null,
   "metadata": {},
   "outputs": [],
   "source": [
    "#Comprobar corrección de valores nulos\n",
    "valores_nulos=data.isnull().sum()\n",
    "valores_nulos"
   ]
  },
  {
   "cell_type": "code",
   "execution_count": null,
   "metadata": {},
   "outputs": [],
   "source": [
    "#Sustituir valores nulos por un string en  concreto \n",
    "data[\"local_name\"]= data[\"local_name\"].fillna(\"Inexistente\") \n",
    "data"
   ]
  },
  {
   "cell_type": "code",
   "execution_count": null,
   "metadata": {},
   "outputs": [],
   "source": [
    "#Comprobar corrección de valores nulos\n",
    "valores_nulos=data.isnull().sum()\n",
    "valores_nulos"
   ]
  },
  {
   "cell_type": "code",
   "execution_count": null,
   "metadata": {},
   "outputs": [],
   "source": [
    "#Sustituir valores nulos por un string en  concreto \n",
    "data[\"head_of_state\"]= data[\"head_of_state\"].fillna(\"Desconocido\") \n",
    "data"
   ]
  },
  {
   "cell_type": "code",
   "execution_count": null,
   "metadata": {},
   "outputs": [],
   "source": [
    "#Comprobar corrección de valores nulos\n",
    "valores_nulos=data.isnull().sum()\n",
    "valores_nulos"
   ]
  },
  {
   "cell_type": "code",
   "execution_count": null,
   "metadata": {},
   "outputs": [],
   "source": [
    "#Sustituir valores nulos por un valor numérico en  concreto \n",
    "data[\"capital\"]= data[\"capital\"].fillna(0) \n",
    "data"
   ]
  },
  {
   "cell_type": "code",
   "execution_count": null,
   "metadata": {},
   "outputs": [],
   "source": [
    "#Comprobar corrección de valores nulos\n",
    "valores_nulos=data.isnull().sum()\n",
    "valores_nulos"
   ]
  },
  {
   "cell_type": "code",
   "execution_count": null,
   "metadata": {},
   "outputs": [],
   "source": [
    "#Sustituir valores nulos por un string en  concreto \n",
    "data[\"code2\"]= data[\"code2\"].fillna(\"NA\") \n",
    "data"
   ]
  },
  {
   "cell_type": "code",
   "execution_count": null,
   "metadata": {},
   "outputs": [],
   "source": [
    "#Comprobar corrección de valores nulos\n",
    "valores_nulos=data.isnull().sum()\n",
    "valores_nulos"
   ]
  },
  {
   "cell_type": "code",
   "execution_count": null,
   "metadata": {},
   "outputs": [],
   "source": [
    "cuenta_nulos= data.isnull().sum().sum()\n",
    "cuenta_nulos"
   ]
  },
  {
   "cell_type": "code",
   "execution_count": null,
   "metadata": {},
   "outputs": [],
   "source": [
    "#Aplicación de método de distribución normal para identificar outliers, límites de 2 desviaciones estándar para variable GNP old\n",
    "y1=data[\"gnp_old\"]\n",
    "limite_superior1= y1.mean() + 2*y1.std()\n",
    "limite_inferior1= y1.mean() - 2*y1.std()\n",
    "print(\"Limite superior permitido\", limite_superior1)\n",
    "print(\"Limite inferior permitido\", limite_inferior1)"
   ]
  },
  {
   "cell_type": "code",
   "execution_count": null,
   "metadata": {},
   "outputs": [],
   "source": [
    "#Identificar los outliers\n",
    "outliers1= data[(y1>limite_superior1)|(y1<limite_inferior1)]\n",
    "outliers1"
   ]
  },
  {
   "cell_type": "code",
   "execution_count": null,
   "metadata": {},
   "outputs": [],
   "source": [
    "#Realizar diagrama de caja\n",
    "fig1 = plt.figure(figsize =(5, 3))\n",
    "plt.boxplot(data[\"gnp_old\"]) \n",
    "plt.title(\"Outliers de GNP old\")\n",
    "plt.show() "
   ]
  },
  {
   "cell_type": "code",
   "execution_count": null,
   "metadata": {},
   "outputs": [],
   "source": [
    "#Aplicación de método de distribución normal para identificar outliers, límites de 2 desviaciones estándar para variable de población\n",
    "y2=data[\"population\"]\n",
    "limite_superior2= y2.mean() + 2*y2.std()\n",
    "limite_inferior2= y2.mean() - 2*y2.std()\n",
    "print(\"Limite superior permitido\", limite_superior2)\n",
    "print(\"Limite inferior permitido\", limite_inferior2)"
   ]
  },
  {
   "cell_type": "code",
   "execution_count": null,
   "metadata": {},
   "outputs": [],
   "source": [
    "#Encontramos outliers\n",
    "outliers2= data[(y2>limite_superior2)|(y2<limite_inferior2)]\n",
    "outliers2"
   ]
  },
  {
   "cell_type": "code",
   "execution_count": null,
   "metadata": {},
   "outputs": [],
   "source": [
    "#Realizamos diagrama de caja o bigote\n",
    "fig2 = plt.figure(figsize =(5, 3))\n",
    "plt.boxplot(data[\"population\"]) \n",
    "plt.title(\"Outliers de population\")\n",
    "plt.show() "
   ]
  },
  {
   "cell_type": "code",
   "execution_count": null,
   "metadata": {},
   "outputs": [],
   "source": [
    "#Aplicar método de rango intercuartílico para identificar outliers, tomando como límites 1.3 IQR para columna gnp old\n",
    "y3=data[\"gnp_old\"]\n",
    "\n",
    "percentile253=y3.quantile(0.25) #Q1\n",
    "percentile753=y3.quantile(0.75) #Q3\n",
    "iqr3= percentile753 - percentile253\n",
    "\n",
    "limite_superior_iqr3= percentile753 + 1.3*iqr3\n",
    "limite_inferior_iqr3= percentile253 - 1.3*iqr3\n",
    "print(\"Limite superior permitido\", limite_superior_iqr3)\n",
    "print(\"Limite inferior permitido\", limite_inferior_iqr3)"
   ]
  },
  {
   "cell_type": "code",
   "execution_count": null,
   "metadata": {},
   "outputs": [],
   "source": [
    "#Identificar outliers\n",
    "outliers_iqr3= data[(y3>limite_superior_iqr3)|(y3<limite_inferior_iqr3)]\n",
    "outliers_iqr3"
   ]
  },
  {
   "cell_type": "code",
   "execution_count": null,
   "metadata": {},
   "outputs": [],
   "source": [
    "#Diagrama de caja de la variable GNP old\n",
    "fig3 = plt.figure(figsize =(5, 3))\n",
    "plt.boxplot(data[\"gnp_old\"]) \n",
    "plt.title(\"Outliers de GNP old\")\n",
    "plt.show() "
   ]
  },
  {
   "cell_type": "code",
   "execution_count": null,
   "metadata": {},
   "outputs": [],
   "source": [
    "#Aplicar método de rango intercuartílico para identificar outliers, tomando como límites 1.3 IQR para columna Surface Area\n",
    "y4=data[\"surface_area\"]\n",
    "\n",
    "percentile254=y4.quantile(0.25) #Q1\n",
    "percentile754=y4.quantile(0.75) #Q3\n",
    "iqr4= percentile754 - percentile254\n",
    "\n",
    "limite_superior_iqr4= percentile754 + 1.3*iqr4\n",
    "limite_inferior_iqr4= percentile254 - 1.3*iqr4\n",
    "print(\"Limite superior permitido\", limite_superior_iqr4)\n",
    "print(\"Limite inferior permitido\", limite_inferior_iqr4)"
   ]
  },
  {
   "cell_type": "code",
   "execution_count": null,
   "metadata": {},
   "outputs": [],
   "source": [
    "#Identificar outliers\n",
    "outliers_iqr4= data[(y4>limite_superior_iqr4)|(y4<limite_inferior_iqr4)]\n",
    "outliers_iqr4"
   ]
  },
  {
   "cell_type": "code",
   "execution_count": null,
   "metadata": {},
   "outputs": [],
   "source": [
    "#Diagrama de caja de la variable Surface Area\n",
    "fig4 = plt.figure(figsize =(5, 3))\n",
    "plt.boxplot(data[\"surface_area\"]) \n",
    "plt.title(\"Outliers de Surface Area\")\n",
    "plt.show() "
   ]
  },
  {
   "cell_type": "code",
   "execution_count": null,
   "metadata": {},
   "outputs": [],
   "source": [
    "#Aplicar método de rango intercuartílico para identificar outliers, tomando como límites 1.3 IQR para columna Life Expectancy\n",
    "y5=data[\"life_expectancy\"]\n",
    "\n",
    "percentile255=y5.quantile(0.25) #Q1\n",
    "percentile755=y5.quantile(0.75) #Q3\n",
    "iqr5= percentile755 - percentile255\n",
    "\n",
    "limite_superior_iqr5= percentile755 + 1.3*iqr5\n",
    "limite_inferior_iqr5= percentile255 - 1.3*iqr5\n",
    "print(\"Limite superior permitido\", limite_superior_iqr5)\n",
    "print(\"Limite inferior permitido\", limite_inferior_iqr5)"
   ]
  },
  {
   "cell_type": "code",
   "execution_count": null,
   "metadata": {},
   "outputs": [],
   "source": [
    "#Identificar outliers\n",
    "outliers_iqr5= data[(y5>limite_superior_iqr5)|(y5<limite_inferior_iqr5)]\n",
    "outliers_iqr5"
   ]
  },
  {
   "cell_type": "code",
   "execution_count": null,
   "metadata": {},
   "outputs": [],
   "source": [
    "#Diagrama de caja de la variable Life Expectancy\n",
    "fig5 = plt.figure(figsize =(5, 3))\n",
    "plt.boxplot(data[\"life_expectancy\"]) \n",
    "plt.title(\"Outliers de Life Expectancy\")\n",
    "plt.show() "
   ]
  },
  {
   "cell_type": "code",
   "execution_count": null,
   "metadata": {},
   "outputs": [],
   "source": [
    "#Aplicar método de rango intercuartílico para identificar outliers, tomando como límites 1.3 IQR para columna Population\n",
    "y6=data[\"population\"]\n",
    "\n",
    "percentile256=y6.quantile(0.25) #Q1\n",
    "percentile756=y6.quantile(0.75) #Q3\n",
    "iqr6= percentile756 - percentile256\n",
    "\n",
    "limite_superior_iqr6= percentile756 + 1.3*iqr6\n",
    "limite_inferior_iqr6= percentile256 - 1.3*iqr6\n",
    "print(\"Limite superior permitido\", limite_superior_iqr6)\n",
    "print(\"Limite inferior permitido\", limite_inferior_iqr6)"
   ]
  },
  {
   "cell_type": "code",
   "execution_count": null,
   "metadata": {},
   "outputs": [],
   "source": [
    "#Identificar outliers\n",
    "outliers_iqr6= data[(y6>limite_superior_iqr6)|(y6<limite_inferior_iqr6)]\n",
    "outliers_iqr6"
   ]
  },
  {
   "cell_type": "code",
   "execution_count": null,
   "metadata": {},
   "outputs": [],
   "source": [
    "#Diagrama de caja de la variable Population\n",
    "fig6 = plt.figure(figsize =(5, 3))\n",
    "plt.boxplot(data[\"population\"]) \n",
    "plt.title(\"Outliers de Population\")\n",
    "plt.show() "
   ]
  },
  {
   "cell_type": "code",
   "execution_count": 90,
   "metadata": {},
   "outputs": [
    {
     "name": "stdout",
     "output_type": "stream",
     "text": [
      "Limite superior permitido 2000727.1652033327\n",
      "Limite inferior permitido -1749858.63800668\n"
     ]
    }
   ],
   "source": [
    "#Método de distribución normal para identificar outliers de la columna \"gnp old\", con límites de 3 desviaciones estándar \n",
    "y7=data[\"gnp_old\"]\n",
    "limite_superior7= y7.mean() + 3*y7.std()\n",
    "limite_inferior7= y7.mean() - 3*y7.std()\n",
    "print(\"Limite superior permitido\", limite_superior7)\n",
    "print(\"Limite inferior permitido\", limite_inferior7)"
   ]
  },
  {
   "cell_type": "code",
   "execution_count": 91,
   "metadata": {},
   "outputs": [
    {
     "data": {
      "text/html": [
       "<div>\n",
       "<style scoped>\n",
       "    .dataframe tbody tr th:only-of-type {\n",
       "        vertical-align: middle;\n",
       "    }\n",
       "\n",
       "    .dataframe tbody tr th {\n",
       "        vertical-align: top;\n",
       "    }\n",
       "\n",
       "    .dataframe thead th {\n",
       "        text-align: right;\n",
       "    }\n",
       "</style>\n",
       "<table border=\"1\" class=\"dataframe\">\n",
       "  <thead>\n",
       "    <tr style=\"text-align: right;\">\n",
       "      <th></th>\n",
       "      <th>code</th>\n",
       "      <th>name</th>\n",
       "      <th>continent</th>\n",
       "      <th>region</th>\n",
       "      <th>surface_area</th>\n",
       "      <th>independence_year</th>\n",
       "      <th>population</th>\n",
       "      <th>life_expectancy</th>\n",
       "      <th>gnp</th>\n",
       "      <th>gnp_old</th>\n",
       "      <th>local_name</th>\n",
       "      <th>government_form</th>\n",
       "      <th>head_of_state</th>\n",
       "      <th>capital</th>\n",
       "      <th>code2</th>\n",
       "    </tr>\n",
       "  </thead>\n",
       "  <tbody>\n",
       "    <tr>\n",
       "      <th>56</th>\n",
       "      <td>DEu</td>\n",
       "      <td>Germany</td>\n",
       "      <td>Europe</td>\n",
       "      <td>Western Europe</td>\n",
       "      <td>357022.0</td>\n",
       "      <td>1955.0</td>\n",
       "      <td>82164700</td>\n",
       "      <td>77.4</td>\n",
       "      <td>2133367.0</td>\n",
       "      <td>2102826.0</td>\n",
       "      <td>Deutschland</td>\n",
       "      <td>Federal Republic</td>\n",
       "      <td>Johannes Rau</td>\n",
       "      <td>3068.0</td>\n",
       "      <td>DE</td>\n",
       "    </tr>\n",
       "    <tr>\n",
       "      <th>109</th>\n",
       "      <td>JPN</td>\n",
       "      <td>Japan</td>\n",
       "      <td>Asia</td>\n",
       "      <td>Eastern Asia</td>\n",
       "      <td>377829.0</td>\n",
       "      <td>-660.0</td>\n",
       "      <td>126714000</td>\n",
       "      <td>80.7</td>\n",
       "      <td>3787042.0</td>\n",
       "      <td>4192638.0</td>\n",
       "      <td>Nihon/Nippon</td>\n",
       "      <td>Constitutional Monarchy</td>\n",
       "      <td>Akihito</td>\n",
       "      <td>1532.0</td>\n",
       "      <td>JP</td>\n",
       "    </tr>\n",
       "    <tr>\n",
       "      <th>223</th>\n",
       "      <td>uSA</td>\n",
       "      <td>united States</td>\n",
       "      <td>North America</td>\n",
       "      <td>North America</td>\n",
       "      <td>9363520.0</td>\n",
       "      <td>1776.0</td>\n",
       "      <td>278357000</td>\n",
       "      <td>77.1</td>\n",
       "      <td>8510700.0</td>\n",
       "      <td>8110900.0</td>\n",
       "      <td>united States</td>\n",
       "      <td>Federal Republic</td>\n",
       "      <td>George W. Bush</td>\n",
       "      <td>3813.0</td>\n",
       "      <td>uS</td>\n",
       "    </tr>\n",
       "  </tbody>\n",
       "</table>\n",
       "</div>"
      ],
      "text/plain": [
       "    code           name      continent          region  surface_area  \\\n",
       "56   DEu        Germany         Europe  Western Europe      357022.0   \n",
       "109  JPN          Japan           Asia    Eastern Asia      377829.0   \n",
       "223  uSA  united States  North America   North America     9363520.0   \n",
       "\n",
       "     independence_year  population  life_expectancy        gnp    gnp_old  \\\n",
       "56              1955.0    82164700             77.4  2133367.0  2102826.0   \n",
       "109             -660.0   126714000             80.7  3787042.0  4192638.0   \n",
       "223             1776.0   278357000             77.1  8510700.0  8110900.0   \n",
       "\n",
       "        local_name          government_form   head_of_state  capital code2  \n",
       "56     Deutschland         Federal Republic    Johannes Rau   3068.0    DE  \n",
       "109   Nihon/Nippon  Constitutional Monarchy         Akihito   1532.0    JP  \n",
       "223  united States         Federal Republic  George W. Bush   3813.0    uS  "
      ]
     },
     "execution_count": 91,
     "metadata": {},
     "output_type": "execute_result"
    }
   ],
   "source": [
    "#Encontramos Ouliers\n",
    "outliers7= data[(y7>limite_superior7)|(y7<limite_inferior7)]\n",
    "outliers7"
   ]
  },
  {
   "cell_type": "code",
   "execution_count": 92,
   "metadata": {},
   "outputs": [
    {
     "data": {
      "text/plain": [
       "125434.26359832636"
      ]
     },
     "execution_count": 92,
     "metadata": {},
     "output_type": "execute_result"
    }
   ],
   "source": [
    "#Encontrar la media de la columna \"gnp_old\"\n",
    "import statistics\n",
    "statistics.mean(data.gnp_old)"
   ]
  },
  {
   "cell_type": "code",
   "execution_count": 105,
   "metadata": {},
   "outputs": [],
   "source": [
    "#Sustituir valores nulos con el promedio de la columna, se toma como entero porque todos los valores de esa columna son enteros\n",
    "data[\"gnp_old\"] = np.where(((data[\"gnp_old\"]>limite_superior7)|(data[\"gnp_old\"]<limite_inferior7)),125434,data['gnp_old'])"
   ]
  },
  {
   "cell_type": "code",
   "execution_count": 106,
   "metadata": {},
   "outputs": [
    {
     "data": {
      "text/html": [
       "<div>\n",
       "<style scoped>\n",
       "    .dataframe tbody tr th:only-of-type {\n",
       "        vertical-align: middle;\n",
       "    }\n",
       "\n",
       "    .dataframe tbody tr th {\n",
       "        vertical-align: top;\n",
       "    }\n",
       "\n",
       "    .dataframe thead th {\n",
       "        text-align: right;\n",
       "    }\n",
       "</style>\n",
       "<table border=\"1\" class=\"dataframe\">\n",
       "  <thead>\n",
       "    <tr style=\"text-align: right;\">\n",
       "      <th></th>\n",
       "      <th>code</th>\n",
       "      <th>name</th>\n",
       "      <th>continent</th>\n",
       "      <th>region</th>\n",
       "      <th>surface_area</th>\n",
       "      <th>independence_year</th>\n",
       "      <th>population</th>\n",
       "      <th>life_expectancy</th>\n",
       "      <th>gnp</th>\n",
       "      <th>gnp_old</th>\n",
       "      <th>local_name</th>\n",
       "      <th>government_form</th>\n",
       "      <th>head_of_state</th>\n",
       "      <th>capital</th>\n",
       "      <th>code2</th>\n",
       "    </tr>\n",
       "  </thead>\n",
       "  <tbody>\n",
       "  </tbody>\n",
       "</table>\n",
       "</div>"
      ],
      "text/plain": [
       "Empty DataFrame\n",
       "Columns: [code, name, continent, region, surface_area, independence_year, population, life_expectancy, gnp, gnp_old, local_name, government_form, head_of_state, capital, code2]\n",
       "Index: []"
      ]
     },
     "execution_count": 106,
     "metadata": {},
     "output_type": "execute_result"
    }
   ],
   "source": [
    "#Comprobar que se eliminaron los outliers\n",
    "outliers8= data[(data[\"gnp_old\"]>limite_superior7)|(data[\"gnp_old\"]<limite_inferior7)]\n",
    "outliers8"
   ]
  },
  {
   "cell_type": "code",
   "execution_count": null,
   "metadata": {},
   "outputs": [],
   "source": [
    "#Primera reestructuración del dataframe\n",
    "data1= data.pivot(index='code', columns='continent',  values='population')\n",
    "data1.head()"
   ]
  },
  {
   "cell_type": "code",
   "execution_count": 130,
   "metadata": {},
   "outputs": [
    {
     "data": {
      "text/html": [
       "        <script type=\"text/javascript\">\n",
       "        window.PlotlyConfig = {MathJaxConfig: 'local'};\n",
       "        if (window.MathJax && window.MathJax.Hub && window.MathJax.Hub.Config) {window.MathJax.Hub.Config({SVG: {font: \"STIX-Web\"}});}\n",
       "        if (typeof require !== 'undefined') {\n",
       "        require.undef(\"plotly\");\n",
       "        requirejs.config({\n",
       "            paths: {\n",
       "                'plotly': ['https://cdn.plot.ly/plotly-2.14.0.min']\n",
       "            }\n",
       "        });\n",
       "        require(['plotly'], function(Plotly) {\n",
       "            window._Plotly = Plotly;\n",
       "        });\n",
       "        }\n",
       "        </script>\n",
       "        "
      ]
     },
     "metadata": {},
     "output_type": "display_data"
    }
   ],
   "source": [
    "#Cambiar el tema con el que se visualizarán las gráficas\n",
    "cf.set_config_file(sharing='public',theme='solar',offline=True)"
   ]
  },
  {
   "cell_type": "code",
   "execution_count": null,
   "metadata": {},
   "outputs": [],
   "source": [
    "#1. Lineplot o grafico lineal 1\n",
    "data1.iplot(kind='line', xTitle='Código', yTitle='Población', title='Poblacion por código y continente')"
   ]
  },
  {
   "cell_type": "code",
   "execution_count": null,
   "metadata": {},
   "outputs": [],
   "source": [
    "#2. Barplot o grafico de barras 1\n",
    "data1.iplot(kind='bar', xTitle='Código', yTitle='Población', title='Población por código y continente')"
   ]
  },
  {
   "cell_type": "code",
   "execution_count": null,
   "metadata": {},
   "outputs": [],
   "source": [
    "#3. Boxplot o grafico de caja 1\n",
    "data1.iplot(kind='box', xTitle='Continente', yTitle='Población', title='Población por continente')"
   ]
  },
  {
   "cell_type": "code",
   "execution_count": null,
   "metadata": {},
   "outputs": [],
   "source": [
    "#4. Histplot o Histograma 1\n",
    "data1.iplot(kind='hist',xTitle='Población', yTitle=\"Frecuencia\", title='Histograma de población por continente')\n"
   ]
  },
  {
   "cell_type": "code",
   "execution_count": null,
   "metadata": {},
   "outputs": [],
   "source": [
    "#5. Scatterplot o Mapa de dispersión 1\n",
    "data1.iplot(kind='scatter', mode='markers',xTitle='Código', yTitle=\"Población\", title='Población por continente y código')"
   ]
  },
  {
   "cell_type": "code",
   "execution_count": null,
   "metadata": {},
   "outputs": [],
   "source": [
    "#Primera reestructuración del dataframe\n",
    "data2= data.pivot(index='name', columns='region',  values='surface_area')\n",
    "data2.head()"
   ]
  },
  {
   "cell_type": "code",
   "execution_count": 140,
   "metadata": {},
   "outputs": [
    {
     "data": {
      "text/html": [
       "        <script type=\"text/javascript\">\n",
       "        window.PlotlyConfig = {MathJaxConfig: 'local'};\n",
       "        if (window.MathJax && window.MathJax.Hub && window.MathJax.Hub.Config) {window.MathJax.Hub.Config({SVG: {font: \"STIX-Web\"}});}\n",
       "        if (typeof require !== 'undefined') {\n",
       "        require.undef(\"plotly\");\n",
       "        requirejs.config({\n",
       "            paths: {\n",
       "                'plotly': ['https://cdn.plot.ly/plotly-2.14.0.min']\n",
       "            }\n",
       "        });\n",
       "        require(['plotly'], function(Plotly) {\n",
       "            window._Plotly = Plotly;\n",
       "        });\n",
       "        }\n",
       "        </script>\n",
       "        "
      ]
     },
     "metadata": {},
     "output_type": "display_data"
    }
   ],
   "source": [
    "#Cambiar el tema con el que se visualizarán las gráficas\n",
    "cf.set_config_file(sharing='public',theme='polar',offline=True)"
   ]
  },
  {
   "cell_type": "code",
   "execution_count": null,
   "metadata": {},
   "outputs": [],
   "source": [
    "#1. Lineplot o grafico lineal 2\n",
    "data2.iplot(kind='line', xTitle='País', yTitle='Área de superficie', title='Área de Superficie por país y región')"
   ]
  },
  {
   "cell_type": "code",
   "execution_count": null,
   "metadata": {},
   "outputs": [],
   "source": [
    "#2. Barplot o grafico de barras 2\n",
    "data2.iplot(kind='bar', xTitle='País', yTitle='Área de superficie', title='Área de Superficie por país y región')"
   ]
  },
  {
   "cell_type": "code",
   "execution_count": null,
   "metadata": {},
   "outputs": [],
   "source": [
    "#3. Boxplot o grafico de caja 2\n",
    "data2.iplot(kind='box', xTitle='Región', yTitle='Área de superficie', title='Área de superficie por región')"
   ]
  },
  {
   "cell_type": "code",
   "execution_count": null,
   "metadata": {},
   "outputs": [],
   "source": [
    "#4. Histplot o Histograma 2\n",
    "data2.iplot(kind='hist',xTitle='Área de superficie', yTitle=\"Frecuencia\", title='Histograma de área de superficie por región')"
   ]
  },
  {
   "cell_type": "code",
   "execution_count": null,
   "metadata": {},
   "outputs": [],
   "source": [
    "#5. Scatterplot o Mapa de dispersión 2\n",
    "data2.iplot(kind='scatter', mode='markers',xTitle='País', yTitle=\"Área de superficie\", title='Área de superficie por región y país')"
   ]
  }
 ],
 "metadata": {
  "kernelspec": {
   "display_name": "Python 3.10.6 64-bit",
   "language": "python",
   "name": "python3"
  },
  "language_info": {
   "codemirror_mode": {
    "name": "ipython",
    "version": 3
   },
   "file_extension": ".py",
   "mimetype": "text/x-python",
   "name": "python",
   "nbconvert_exporter": "python",
   "pygments_lexer": "ipython3",
   "version": "3.10.6"
  },
  "orig_nbformat": 4,
  "vscode": {
   "interpreter": {
    "hash": "aee8b7b246df8f9039afb4144a1f6fd8d2ca17a180786b69acc140d282b71a49"
   }
  }
 },
 "nbformat": 4,
 "nbformat_minor": 2
}
